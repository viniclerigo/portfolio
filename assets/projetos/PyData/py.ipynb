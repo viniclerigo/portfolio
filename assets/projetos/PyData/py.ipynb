{
 "cells": [
  {
   "cell_type": "code",
   "execution_count": 1,
   "id": "d42a2a71",
   "metadata": {},
   "outputs": [],
   "source": [
    "import pandas as pd"
   ]
  },
  {
   "cell_type": "code",
   "execution_count": 2,
   "id": "3199dd78",
   "metadata": {},
   "outputs": [],
   "source": [
    "usuarios = pd.read_csv(\"data/usuarios.csv\")\n",
    "clientes = pd.read_csv(\"data/clientes.csv\")\n",
    "produtos = pd.read_csv(\"data/produtos.csv\")\n",
    "vendas = pd.read_csv(\"data/vendas.csv\")\n",
    "itens_venda = pd.read_csv(\"data/itens_venda.csv\")"
   ]
  },
  {
   "cell_type": "code",
   "execution_count": 14,
   "id": "0a1e370d",
   "metadata": {},
   "outputs": [],
   "source": [
    "colClientes = [\"id_cliente\", \"regiao\", \"canal_aquisicao\"]\n",
    "colItens = [\"id_venda\", \"id_produto\", \"quantidade\", \"valor_total\"]\n",
    "colVendas = [\"id_venda\", \"data_venda\", \"id_cliente\"]"
   ]
  },
  {
   "cell_type": "code",
   "execution_count": 10,
   "id": "137bbc3f",
   "metadata": {},
   "outputs": [
    {
     "name": "stdout",
     "output_type": "stream",
     "text": [
      "Index(['id_item_venda', 'id_venda', 'id_produto', 'quantidade', 'valor_total'], dtype='object')\n"
     ]
    }
   ],
   "source": [
    "print(itens_venda.columns)"
   ]
  },
  {
   "cell_type": "code",
   "execution_count": 15,
   "id": "a9b17328",
   "metadata": {},
   "outputs": [],
   "source": [
    "bat1 = pd.merge(vendas[colVendas], itens_venda[colItens], on=\"id_venda\", how=\"left\")\n"
   ]
  },
  {
   "cell_type": "code",
   "execution_count": 18,
   "id": "3df17a54",
   "metadata": {},
   "outputs": [
    {
     "data": {
      "text/html": [
       "<div>\n",
       "<style scoped>\n",
       "    .dataframe tbody tr th:only-of-type {\n",
       "        vertical-align: middle;\n",
       "    }\n",
       "\n",
       "    .dataframe tbody tr th {\n",
       "        vertical-align: top;\n",
       "    }\n",
       "\n",
       "    .dataframe thead th {\n",
       "        text-align: right;\n",
       "    }\n",
       "</style>\n",
       "<table border=\"1\" class=\"dataframe\">\n",
       "  <thead>\n",
       "    <tr style=\"text-align: right;\">\n",
       "      <th></th>\n",
       "      <th>id_venda</th>\n",
       "      <th>data_venda</th>\n",
       "      <th>id_cliente</th>\n",
       "      <th>id_produto</th>\n",
       "      <th>quantidade</th>\n",
       "      <th>valor_total</th>\n",
       "    </tr>\n",
       "  </thead>\n",
       "  <tbody>\n",
       "    <tr>\n",
       "      <th>378</th>\n",
       "      <td>199</td>\n",
       "      <td>2025-06-07</td>\n",
       "      <td>178</td>\n",
       "      <td>3</td>\n",
       "      <td>1</td>\n",
       "      <td>50000.0</td>\n",
       "    </tr>\n",
       "    <tr>\n",
       "      <th>379</th>\n",
       "      <td>199</td>\n",
       "      <td>2025-06-07</td>\n",
       "      <td>178</td>\n",
       "      <td>2</td>\n",
       "      <td>1</td>\n",
       "      <td>100000.0</td>\n",
       "    </tr>\n",
       "    <tr>\n",
       "      <th>380</th>\n",
       "      <td>199</td>\n",
       "      <td>2025-06-07</td>\n",
       "      <td>178</td>\n",
       "      <td>4</td>\n",
       "      <td>1</td>\n",
       "      <td>100000.0</td>\n",
       "    </tr>\n",
       "  </tbody>\n",
       "</table>\n",
       "</div>"
      ],
      "text/plain": [
       "     id_venda  data_venda  id_cliente  id_produto  quantidade  valor_total\n",
       "378       199  2025-06-07         178           3           1      50000.0\n",
       "379       199  2025-06-07         178           2           1     100000.0\n",
       "380       199  2025-06-07         178           4           1     100000.0"
      ]
     },
     "metadata": {},
     "output_type": "display_data"
    },
    {
     "data": {
      "text/html": [
       "<div>\n",
       "<style scoped>\n",
       "    .dataframe tbody tr th:only-of-type {\n",
       "        vertical-align: middle;\n",
       "    }\n",
       "\n",
       "    .dataframe tbody tr th {\n",
       "        vertical-align: top;\n",
       "    }\n",
       "\n",
       "    .dataframe thead th {\n",
       "        text-align: right;\n",
       "    }\n",
       "</style>\n",
       "<table border=\"1\" class=\"dataframe\">\n",
       "  <thead>\n",
       "    <tr style=\"text-align: right;\">\n",
       "      <th></th>\n",
       "      <th>id_venda</th>\n",
       "      <th>data_venda</th>\n",
       "      <th>id_cliente</th>\n",
       "      <th>id_usuario</th>\n",
       "      <th>valor_total_venda</th>\n",
       "    </tr>\n",
       "  </thead>\n",
       "  <tbody>\n",
       "    <tr>\n",
       "      <th>198</th>\n",
       "      <td>199</td>\n",
       "      <td>2025-06-07</td>\n",
       "      <td>178</td>\n",
       "      <td>4</td>\n",
       "      <td>250000.0</td>\n",
       "    </tr>\n",
       "  </tbody>\n",
       "</table>\n",
       "</div>"
      ],
      "text/plain": [
       "     id_venda  data_venda  id_cliente  id_usuario  valor_total_venda\n",
       "198       199  2025-06-07         178           4           250000.0"
      ]
     },
     "metadata": {},
     "output_type": "display_data"
    }
   ],
   "source": [
    "# display(bat1)\n",
    "display(bat1[bat1['id_venda'] == 199])\n",
    "display(vendas[vendas['id_venda'] == 199])"
   ]
  }
 ],
 "metadata": {
  "kernelspec": {
   "display_name": "pydataEnv",
   "language": "python",
   "name": "python3"
  },
  "language_info": {
   "codemirror_mode": {
    "name": "ipython",
    "version": 3
   },
   "file_extension": ".py",
   "mimetype": "text/x-python",
   "name": "python",
   "nbconvert_exporter": "python",
   "pygments_lexer": "ipython3",
   "version": "3.11.6"
  }
 },
 "nbformat": 4,
 "nbformat_minor": 5
}
